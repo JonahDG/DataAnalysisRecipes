{
  "nbformat": 4,
  "nbformat_minor": 0,
  "metadata": {
    "colab": {
      "name": "Untitled0.ipynb",
      "provenance": [],
      "toc_visible": true,
      "authorship_tag": "ABX9TyPss1KP7kGnFLn1wsAa5KhI",
      "include_colab_link": true
    },
    "kernelspec": {
      "name": "python3",
      "display_name": "Python 3"
    }
  },
  "cells": [
    {
      "cell_type": "markdown",
      "metadata": {
        "id": "view-in-github",
        "colab_type": "text"
      },
      "source": [
        "<a href=\"https://colab.research.google.com/github/JonahDG/DataAnalysisRecipes/blob/master/DataAnalysisExercises.ipynb\" target=\"_parent\"><img src=\"https://colab.research.google.com/assets/colab-badge.svg\" alt=\"Open In Colab\"/></a>"
      ]
    },
    {
      "cell_type": "code",
      "metadata": {
        "id": "zMhSND6AhZob",
        "colab_type": "code",
        "colab": {
          "base_uri": "https://localhost:8080/",
          "height": 357
        },
        "outputId": "7e18740f-a067-46a7-bc26-75e22d2162a7"
      },
      "source": [
        "import numpy as np\n",
        "import matplotlib.pyplot as plot\n",
        "import scipy as sp\n",
        "table1=np.array([[201,592,61,9,-.84],\n",
        "                 [244,401,25,4,.31],\n",
        "                 [47, 583,38,11,.64],\n",
        "                 [287,402,15,7,-.27],\n",
        "                 [203,495,21,5,-.33],\n",
        "                 [58,173,15,9,.67],\n",
        "                 [210,479,27,4,-.02],\n",
        "                 [202,504,14,4,-.05],\n",
        "                 [198,510,30,11,-.84],\n",
        "                 [158,416,16,7,-.69],\n",
        "                 [165,393,14,5,.30],\n",
        "                 [201,442,25,5,-.46],\n",
        "                 [157,317,52,5,-.03],\n",
        "                 [131,311,16,6,.50],\n",
        "                 [166,400,34,6,.73],\n",
        "                 [160,337,31,5,-.52],\n",
        "                 [186,423,42,9,.9],\n",
        "                 [125,334,26,8,.4],\n",
        "                 [218,533,16,6,-.78],\n",
        "                 [146,344,22,5,-.56]])\n",
        "print(table1)"
      ],
      "execution_count": 1,
      "outputs": [
        {
          "output_type": "stream",
          "text": [
            "[[ 2.01e+02  5.92e+02  6.10e+01  9.00e+00 -8.40e-01]\n",
            " [ 2.44e+02  4.01e+02  2.50e+01  4.00e+00  3.10e-01]\n",
            " [ 4.70e+01  5.83e+02  3.80e+01  1.10e+01  6.40e-01]\n",
            " [ 2.87e+02  4.02e+02  1.50e+01  7.00e+00 -2.70e-01]\n",
            " [ 2.03e+02  4.95e+02  2.10e+01  5.00e+00 -3.30e-01]\n",
            " [ 5.80e+01  1.73e+02  1.50e+01  9.00e+00  6.70e-01]\n",
            " [ 2.10e+02  4.79e+02  2.70e+01  4.00e+00 -2.00e-02]\n",
            " [ 2.02e+02  5.04e+02  1.40e+01  4.00e+00 -5.00e-02]\n",
            " [ 1.98e+02  5.10e+02  3.00e+01  1.10e+01 -8.40e-01]\n",
            " [ 1.58e+02  4.16e+02  1.60e+01  7.00e+00 -6.90e-01]\n",
            " [ 1.65e+02  3.93e+02  1.40e+01  5.00e+00  3.00e-01]\n",
            " [ 2.01e+02  4.42e+02  2.50e+01  5.00e+00 -4.60e-01]\n",
            " [ 1.57e+02  3.17e+02  5.20e+01  5.00e+00 -3.00e-02]\n",
            " [ 1.31e+02  3.11e+02  1.60e+01  6.00e+00  5.00e-01]\n",
            " [ 1.66e+02  4.00e+02  3.40e+01  6.00e+00  7.30e-01]\n",
            " [ 1.60e+02  3.37e+02  3.10e+01  5.00e+00 -5.20e-01]\n",
            " [ 1.86e+02  4.23e+02  4.20e+01  9.00e+00  9.00e-01]\n",
            " [ 1.25e+02  3.34e+02  2.60e+01  8.00e+00  4.00e-01]\n",
            " [ 2.18e+02  5.33e+02  1.60e+01  6.00e+00 -7.80e-01]\n",
            " [ 1.46e+02  3.44e+02  2.20e+01  5.00e+00 -5.60e-01]]\n"
          ],
          "name": "stdout"
        }
      ]
    },
    {
      "cell_type": "markdown",
      "metadata": {
        "id": "wLitAzhPhlvH",
        "colab_type": "text"
      },
      "source": [
        "# Exercise 1"
      ]
    }
  ]
}