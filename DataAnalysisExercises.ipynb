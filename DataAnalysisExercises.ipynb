{
  "nbformat": 4,
  "nbformat_minor": 0,
  "metadata": {
    "colab": {
      "name": "DataAnalysisExercises.ipynb",
      "provenance": [],
      "toc_visible": true,
      "authorship_tag": "ABX9TyMciBU49GRcm1o1ffDowSl9"
    },
    "kernelspec": {
      "name": "python3",
      "display_name": "Python 3"
    }
  },
  "cells": [
    {
      "cell_type": "markdown",
      "metadata": {
        "id": "l8hZVBBMjzCX",
        "colab_type": "text"
      },
      "source": [
        "#Example Data for First 3 Exercises"
      ]
    },
    {
      "cell_type": "code",
      "metadata": {
        "id": "zMhSND6AhZob",
        "colab_type": "code",
        "colab": {
          "base_uri": "https://localhost:8080/",
          "height": 357
        },
        "outputId": "c456163f-56c6-48d5-fdd9-7a16316a5f7e"
      },
      "source": [
        "import numpy as np\n",
        "import matplotlib.pyplot as plt\n",
        "import scipy as sp\n",
        "table1=np.array([[201,592,61,9,-.84],\n",
        "                 [244,401,25,4,.31],\n",
        "                 [47, 583,38,11,.64],\n",
        "                 [287,402,15,7,-.27],\n",
        "                 [203,495,21,5,-.33],\n",
        "                 [58,173,15,9,.67],\n",
        "                 [210,479,27,4,-.02],\n",
        "                 [202,504,14,4,-.05],\n",
        "                 [198,510,30,11,-.84],\n",
        "                 [158,416,16,7,-.69],\n",
        "                 [165,393,14,5,.30],\n",
        "                 [201,442,25,5,-.46],\n",
        "                 [157,317,52,5,-.03],\n",
        "                 [131,311,16,6,.50],\n",
        "                 [166,400,34,6,.73],\n",
        "                 [160,337,31,5,-.52],\n",
        "                 [186,423,42,9,.9],\n",
        "                 [125,334,26,8,.4],\n",
        "                 [218,533,16,6,-.78],\n",
        "                 [146,344,22,5,-.56]])\n",
        "print(table1)"
      ],
      "execution_count": null,
      "outputs": [
        {
          "output_type": "stream",
          "text": [
            "[[ 2.01e+02  5.92e+02  6.10e+01  9.00e+00 -8.40e-01]\n",
            " [ 2.44e+02  4.01e+02  2.50e+01  4.00e+00  3.10e-01]\n",
            " [ 4.70e+01  5.83e+02  3.80e+01  1.10e+01  6.40e-01]\n",
            " [ 2.87e+02  4.02e+02  1.50e+01  7.00e+00 -2.70e-01]\n",
            " [ 2.03e+02  4.95e+02  2.10e+01  5.00e+00 -3.30e-01]\n",
            " [ 5.80e+01  1.73e+02  1.50e+01  9.00e+00  6.70e-01]\n",
            " [ 2.10e+02  4.79e+02  2.70e+01  4.00e+00 -2.00e-02]\n",
            " [ 2.02e+02  5.04e+02  1.40e+01  4.00e+00 -5.00e-02]\n",
            " [ 1.98e+02  5.10e+02  3.00e+01  1.10e+01 -8.40e-01]\n",
            " [ 1.58e+02  4.16e+02  1.60e+01  7.00e+00 -6.90e-01]\n",
            " [ 1.65e+02  3.93e+02  1.40e+01  5.00e+00  3.00e-01]\n",
            " [ 2.01e+02  4.42e+02  2.50e+01  5.00e+00 -4.60e-01]\n",
            " [ 1.57e+02  3.17e+02  5.20e+01  5.00e+00 -3.00e-02]\n",
            " [ 1.31e+02  3.11e+02  1.60e+01  6.00e+00  5.00e-01]\n",
            " [ 1.66e+02  4.00e+02  3.40e+01  6.00e+00  7.30e-01]\n",
            " [ 1.60e+02  3.37e+02  3.10e+01  5.00e+00 -5.20e-01]\n",
            " [ 1.86e+02  4.23e+02  4.20e+01  9.00e+00  9.00e-01]\n",
            " [ 1.25e+02  3.34e+02  2.60e+01  8.00e+00  4.00e-01]\n",
            " [ 2.18e+02  5.33e+02  1.60e+01  6.00e+00 -7.80e-01]\n",
            " [ 1.46e+02  3.44e+02  2.20e+01  5.00e+00 -5.60e-01]]\n"
          ],
          "name": "stdout"
        }
      ]
    },
    {
      "cell_type": "markdown",
      "metadata": {
        "id": "wLitAzhPhlvH",
        "colab_type": "text"
      },
      "source": [
        "# Exercise 1\n",
        "Completed"
      ]
    },
    {
      "cell_type": "code",
      "metadata": {
        "id": "eeINN9ZkmicX",
        "colab_type": "code",
        "colab": {
          "base_uri": "https://localhost:8080/",
          "height": 300
        },
        "outputId": "e2d19488-c8f6-4a2f-e706-757e59a78fda"
      },
      "source": [
        "def Exercise1(table):\n",
        "  MatrixA=np.array([[1,table[4,0]],\n",
        "                    [1,table[5,0]],\n",
        "                    [1,table[6,0]],\n",
        "                    [1,table[7,0]],\n",
        "                    [1,table[8,0]],\n",
        "                    [1,table[9,0]],\n",
        "                    [1,table[10,0]],\n",
        "                    [1,table[11,0]],\n",
        "                    [1,table[12,0]],\n",
        "                    [1,table[13,0]],\n",
        "                    [1,table[14,0]],\n",
        "                    [1,table[15,0]],\n",
        "                    [1,table[16,0]],\n",
        "                    [1,table[17,0]],\n",
        "                    [1,table[18,0]],\n",
        "                    [1,table[19,0]]]) #Creates Matrix A from positions 5-20 in the first column (x-values)\n",
        "\n",
        "  MatrixA_T=np.transpose(MatrixA) #Transposes Matrix A\n",
        "  MatrixY=np.array(table[4:,1]) #Creates Matrix Y from   second column (Y-values)\n",
        "  MatrixC=np.diag(table1[4:,2]) #Creates a diagonal Matrix C from positions 5-20 in the third columb (SigmaY-Values)\n",
        "  MatrixC_I=np.linalg.inv(MatrixC) #Inverses Matrix C\n",
        "  MatrixX_1=np.dot(np.dot(MatrixA_T,MatrixC_I),MatrixA) #Creates The first half MatrixX formula (Before Inversing)\n",
        "  MatrixX_2=np.dot(np.dot(MatrixA_T,MatrixC_I),MatrixY) #Creates the second half of MatrixX Formula\n",
        "  MatrixX=np.linalg.solve(MatrixX_1,MatrixX_2) #Solves MatrixX_1 and MatrixX_2 to get Matrix X\n",
        "  ##np.solve does [Matrix1]^(-1)[Matrix2]\n",
        "  MatrixM=table[4:,1] / table[4:,0] #Creates Matrix of slopes  based on x_i and y_i\n",
        "  MatrixM_U=np.std(MatrixM) #Finds the standard deviation of MatrixM\n",
        "  print(MatrixX)\n",
        "  print(MatrixM_U)\n",
        "  x_vals=np.arange(0,300,10) #Gets x values for the Line of best Fit\n",
        "  plt.errorbar(table[4:,0],table[4:20,1],yerr=table[4:20,2],fmt=\"o\") #plots a scatter Plot with errorbars\n",
        "  plt.plot(x_vals,MatrixX[1]*x_vals+MatrixX[0]) #Plots a line of best fit based on MatrixX\n",
        "  plt.annotate(\"y = (33.45 \\u00B1 0.23)x + (2.22)\",(100,150))\n",
        "  plt.plot\n",
        "Exercise1(table1)"
      ],
      "execution_count": null,
      "outputs": [
        {
          "output_type": "stream",
          "text": [
            "[33.45048483  2.221363  ]\n",
            "0.22532685048950796\n"
          ],
          "name": "stdout"
        },
        {
          "output_type": "display_data",
          "data": {
            "image/png": "[encoded data removed]",
            "text/plain": [
              "<Figure size 432x288 with 1 Axes>"
            ]
          },
          "metadata": {
            "tags": [],
            "needs_background": "light"
          }
        }
      ]
    },
    {
      "cell_type": "markdown",
      "metadata": {
        "id": "F_NzUGDXXSkN",
        "colab_type": "text"
      },
      "source": [
        "Variance on the slope is 0.051"
      ]
    },
    {
      "cell_type": "markdown",
      "metadata": {
        "id": "LMo-5BWhQKl4",
        "colab_type": "text"
      },
      "source": [
        "# Exercise 2\n",
        "Completed"
      ]
    },
    {
      "cell_type": "code",
      "metadata": {
        "id": "dJ1T7PVOQOV7",
        "colab_type": "code",
        "colab": {
          "base_uri": "https://localhost:8080/",
          "height": 299
        },
        "outputId": "2df1a5c8-d8e4-4658-b1c4-389d8650f14e"
      },
      "source": [
        "def Exercise2(table):\n",
        "  MatrixA=np.array([[1,table1[0,0]],\n",
        "                    [1,table1[1,0]],\n",
        "                    [1,table1[2,0]],\n",
        "                    [1,table1[3,0]],\n",
        "                    [1,table[4,0]],\n",
        "                    [1,table[5,0]],\n",
        "                    [1,table[6,0]],\n",
        "                    [1,table[7,0]],\n",
        "                    [1,table[8,0]],\n",
        "                    [1,table[9,0]],\n",
        "                    [1,table[10,0]],\n",
        "                    [1,table[11,0]],\n",
        "                    [1,table[12,0]],\n",
        "                    [1,table[13,0]],\n",
        "                    [1,table[14,0]],\n",
        "                    [1,table[15,0]],\n",
        "                    [1,table[16,0]],\n",
        "                    [1,table[17,0]],\n",
        "                    [1,table[18,0]],\n",
        "                    [1,table[19,0]]]) #Creates Matrix A from all of first column (x-values)\n",
        "\n",
        "  MatrixA_T=np.transpose(MatrixA) #Transposes Matrix A\n",
        "  MatrixY=np.array(table[:,1]) #Creates Matrix Y from all of second column (Y-values)\n",
        "  MatrixC=np.diag(table1[:,2]) #Creates a diagonal Matrix C from all of third columb (SigmaY-Values)\n",
        "  MatrixC_I=np.linalg.inv(MatrixC) #Inverses Matrix C\n",
        "  MatrixX_1=np.dot(np.dot(MatrixA_T,MatrixC_I),MatrixA) #Creates The first half MatrixX formula (Before Inversing)\n",
        "  MatrixX_2=np.dot(np.dot(MatrixA_T,MatrixC_I),MatrixY) #Creates the second half of MatrixX Formula\n",
        "  MatrixX=np.linalg.solve(MatrixX_1,MatrixX_2) #Solves MatrixX_1 and MatrixX_2 to get Matrix X\n",
        "  ##np.solve does [Matrix1]^(-1)[Matrix2]\n",
        "  MatrixM=table1[4:,1] / table1[4:,0] #Creates Matrix of slopes  based on x_i and y_i\n",
        "  MatrixM_U=np.std(MatrixM) #Finds the standard deviation of MatrixM\n",
        "  print(MatrixX)\n",
        "  print(MatrixM_U)\n",
        "  x_vals=np.arange(0,300,10) #Gets x values for the Line of best Fit\n",
        "  plt.errorbar(table[:,0],table[:,1],yerr=table[:,2],fmt=\"o\") #plots a scatter Plot with errorbars\n",
        "  plt.plot(x_vals,MatrixX[1]*x_vals+MatrixX[0]) #Plots a line of best fit based on MatrixX\n",
        "  plt.annotate(\"y = (0.897 \\u00B1 0.23)x + (252.5)\",(100,200))\n",
        "  plt.plot\n",
        "Exercise2(table1)"
      ],
      "execution_count": 88,
      "outputs": [
        {
          "output_type": "stream",
          "text": [
            "[252.47202852   0.8965819 ]\n",
            "0.22532685048950796\n"
          ],
          "name": "stdout"
        },
        {
          "output_type": "display_data",
          "data": {
            "image/png": "[encoded data removed]",
            "text/plain": [
              "<Figure size 432x288 with 1 Axes>"
            ]
          },
          "metadata": {
            "tags": [],
            "needs_background": "light"
          }
        }
      ]
    },
    {
      "cell_type": "markdown",
      "metadata": {
        "id": "0LWhH8iMZMt8",
        "colab_type": "text"
      },
      "source": [
        "* The variance is the same as in Exercise 1\n",
        "* I feel like, if the line of best fit was accurate, the variance would have decreased\n",
        "* The first four points are outliers. The X values of points 2 and 4 are  bigger than the other X values. The X value of point 3 is much smaller all of the other x values. The Y values for points 1 and 3 are also larger.\n",
        "\n",
        "\n"
      ]
    },
    {
      "cell_type": "markdown",
      "metadata": {
        "id": "yx-UXxAwbcRb",
        "colab_type": "text"
      },
      "source": [
        "# Exercise 3\n",
        "Work In Progress"
      ]
    },
    {
      "cell_type": "code",
      "metadata": {
        "id": "XA6_FvZrcNDW",
        "colab_type": "code",
        "colab": {
          "base_uri": "https://localhost:8080/",
          "height": 639
        },
        "outputId": "2734107c-98c7-4a0e-d0ef-a1aded5e7936"
      },
      "source": [
        "def Exercise3(table):\n",
        "  MatrixA=np.array([[1,table1[0,0],(table1[0,0])**2],\n",
        "                    [1,table1[1,0],(table1[1,0])**2],\n",
        "                    [1,table1[2,0],(table1[2,0])**2],\n",
        "                    [1,table1[3,0],(table1[3,0])**2],\n",
        "                    [1,table[4,0],(table1[4,0])**2],\n",
        "                    [1,table[5,0],(table1[5,0])**2],\n",
        "                    [1,table[6,0],(table1[6,0])**2],\n",
        "                    [1,table[7,0],(table1[7,0])**2],\n",
        "                    [1,table[8,0],(table1[8,0])**2],\n",
        "                    [1,table[9,0],(table1[9,0])**2],\n",
        "                    [1,table[10,0],(table1[10,0])**2],\n",
        "                    [1,table[11,0],(table1[11,0])**2],\n",
        "                    [1,table[12,0],(table1[12,0])**2],\n",
        "                    [1,table[13,0],(table1[13,0])**2],\n",
        "                    [1,table[14,0],(table1[14,0])**2],\n",
        "                    [1,table[15,0],(table1[15,0])**2],\n",
        "                    [1,table[16,0],(table1[16,0])**2],\n",
        "                    [1,table[17,0],(table1[17,0])**2],\n",
        "                    [1,table[18,0],(table1[18,0])**2],\n",
        "                    [1,table[19,0],(table1[19,0])**2]]) #Creates Matrix A from all of first column (x-values) As well as the X^2 values\n",
        "\n",
        "  MatrixA_T=np.transpose(MatrixA) #Transposes Matrix A\n",
        "  MatrixY=np.array(table[:,1]) #Creates Matrix Y from all of second column (Y-values)\n",
        "  MatrixC=np.diag(table1[:,2]) #Creates a diagonal Matrix C from all of third columb (SigmaY-Values)\n",
        "  MatrixC_I=np.linalg.inv(MatrixC) #Inverses Matrix C\n",
        "  MatrixX_1=np.dot(np.dot(MatrixA_T,MatrixC_I),MatrixA) #Creates The first half MatrixX formula (Before Inversing)\n",
        "  MatrixX_2=np.dot(np.dot(MatrixA_T,MatrixC_I),MatrixY) #Creates the second half of MatrixX Formula\n",
        "  MatrixX=np.linalg.solve(MatrixX_1,MatrixX_2) #Solves MatrixX_1 and MatrixX_2 to get Matrix X\n",
        "  ##np.solve does [Matrix1]^(-1)[Matrix2] ###Q value returns as negative when it should be positive\n",
        "  MatrixM=table1[4:,1] / table1[4:,0] #Creates Matrix of slopes  based on x_i and y_i\n",
        "  MatrixM_U=np.std(MatrixM) #Finds the standard deviation of MatrixM\n",
        "  print(MatrixA)\n",
        "  print(MatrixX)\n",
        "  print(MatrixM_U)\n",
        "  x_vals=np.arange(0,300,10) #Gets x values for the Line of best Fit\n",
        "  plt.errorbar(table[:,0],table[:,1],yerr=table[:,2],fmt=\"o\") #plots a scatter Plot with errorbars\n",
        "  plt.plot(x_vals,((MatrixX[2]*x_vals**2)+(MatrixX[1]*x_vals)+MatrixX[0])) #Plots a line of best fit based on MatrixX\n",
        "  plt.annotate(\"y = (-.0043)x\\u00B2 + (2.33)x + (149)\",(100,200))\n",
        "  plt.plot\n",
        "Exercise3(table1)"
      ],
      "execution_count": 93,
      "outputs": [
        {
          "output_type": "stream",
          "text": [
            "[[1.0000e+00 2.0100e+02 4.0401e+04]\n",
            " [1.0000e+00 2.4400e+02 5.9536e+04]\n",
            " [1.0000e+00 4.7000e+01 2.2090e+03]\n",
            " [1.0000e+00 2.8700e+02 8.2369e+04]\n",
            " [1.0000e+00 2.0300e+02 4.1209e+04]\n",
            " [1.0000e+00 5.8000e+01 3.3640e+03]\n",
            " [1.0000e+00 2.1000e+02 4.4100e+04]\n",
            " [1.0000e+00 2.0200e+02 4.0804e+04]\n",
            " [1.0000e+00 1.9800e+02 3.9204e+04]\n",
            " [1.0000e+00 1.5800e+02 2.4964e+04]\n",
            " [1.0000e+00 1.6500e+02 2.7225e+04]\n",
            " [1.0000e+00 2.0100e+02 4.0401e+04]\n",
            " [1.0000e+00 1.5700e+02 2.4649e+04]\n",
            " [1.0000e+00 1.3100e+02 1.7161e+04]\n",
            " [1.0000e+00 1.6600e+02 2.7556e+04]\n",
            " [1.0000e+00 1.6000e+02 2.5600e+04]\n",
            " [1.0000e+00 1.8600e+02 3.4596e+04]\n",
            " [1.0000e+00 1.2500e+02 1.5625e+04]\n",
            " [1.0000e+00 2.1800e+02 4.7524e+04]\n",
            " [1.0000e+00 1.4600e+02 2.1316e+04]]\n",
            "[ 1.48583085e+02  2.33088786e+00 -4.33249974e-03]\n",
            "0.22532685048950796\n"
          ],
          "name": "stdout"
        },
        {
          "output_type": "display_data",
          "data": {
            "image/png": "[encoded data removed]",
            "text/plain": [
              "<Figure size 432x288 with 1 Axes>"
            ]
          },
          "metadata": {
            "tags": [],
            "needs_background": "light"
          }
        }
      ]
    }
  ]
}