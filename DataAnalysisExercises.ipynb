{
  "nbformat": 4,
  "nbformat_minor": 0,
  "metadata": {
    "colab": {
      "name": "DataAnalysisExercises.ipynb",
      "provenance": [],
      "authorship_tag": "ABX9TyO7evSXUzAeVS2FRdN+/Aeb",
      "include_colab_link": true
    },
    "kernelspec": {
      "name": "python3",
      "display_name": "Python 3"
    }
  },
  "cells": [
    {
      "cell_type": "markdown",
      "metadata": {
        "id": "view-in-github",
        "colab_type": "text"
      },
      "source": [
        "<a href=\"https://colab.research.google.com/github/JonahDG/DataAnalysisRecipes/blob/master/DataAnalysisExercises.ipynb\" target=\"_parent\"><img src=\"https://colab.research.google.com/assets/colab-badge.svg\" alt=\"Open In Colab\"/></a>"
      ]
    },
    {
      "cell_type": "markdown",
      "metadata": {
        "id": "l8hZVBBMjzCX",
        "colab_type": "text"
      },
      "source": [
        "#Example Data for First 3 Exercises"
      ]
    },
    {
      "cell_type": "code",
      "metadata": {
        "id": "zMhSND6AhZob",
        "colab_type": "code",
        "colab": {
          "base_uri": "https://localhost:8080/",
          "height": 357
        },
        "outputId": "c456163f-56c6-48d5-fdd9-7a16316a5f7e"
      },
      "source": [
        "import numpy as np\n",
        "import matplotlib.pyplot as plt\n",
        "import scipy as sp\n",
        "table1=np.array([[201,592,61,9,-.84],\n",
        "                 [244,401,25,4,.31],\n",
        "                 [47, 583,38,11,.64],\n",
        "                 [287,402,15,7,-.27],\n",
        "                 [203,495,21,5,-.33],\n",
        "                 [58,173,15,9,.67],\n",
        "                 [210,479,27,4,-.02],\n",
        "                 [202,504,14,4,-.05],\n",
        "                 [198,510,30,11,-.84],\n",
        "                 [158,416,16,7,-.69],\n",
        "                 [165,393,14,5,.30],\n",
        "                 [201,442,25,5,-.46],\n",
        "                 [157,317,52,5,-.03],\n",
        "                 [131,311,16,6,.50],\n",
        "                 [166,400,34,6,.73],\n",
        "                 [160,337,31,5,-.52],\n",
        "                 [186,423,42,9,.9],\n",
        "                 [125,334,26,8,.4],\n",
        "                 [218,533,16,6,-.78],\n",
        "                 [146,344,22,5,-.56]])\n",
        "print(table1)"
      ],
      "execution_count": 26,
      "outputs": [
        {
          "output_type": "stream",
          "text": [
            "[[ 2.01e+02  5.92e+02  6.10e+01  9.00e+00 -8.40e-01]\n",
            " [ 2.44e+02  4.01e+02  2.50e+01  4.00e+00  3.10e-01]\n",
            " [ 4.70e+01  5.83e+02  3.80e+01  1.10e+01  6.40e-01]\n",
            " [ 2.87e+02  4.02e+02  1.50e+01  7.00e+00 -2.70e-01]\n",
            " [ 2.03e+02  4.95e+02  2.10e+01  5.00e+00 -3.30e-01]\n",
            " [ 5.80e+01  1.73e+02  1.50e+01  9.00e+00  6.70e-01]\n",
            " [ 2.10e+02  4.79e+02  2.70e+01  4.00e+00 -2.00e-02]\n",
            " [ 2.02e+02  5.04e+02  1.40e+01  4.00e+00 -5.00e-02]\n",
            " [ 1.98e+02  5.10e+02  3.00e+01  1.10e+01 -8.40e-01]\n",
            " [ 1.58e+02  4.16e+02  1.60e+01  7.00e+00 -6.90e-01]\n",
            " [ 1.65e+02  3.93e+02  1.40e+01  5.00e+00  3.00e-01]\n",
            " [ 2.01e+02  4.42e+02  2.50e+01  5.00e+00 -4.60e-01]\n",
            " [ 1.57e+02  3.17e+02  5.20e+01  5.00e+00 -3.00e-02]\n",
            " [ 1.31e+02  3.11e+02  1.60e+01  6.00e+00  5.00e-01]\n",
            " [ 1.66e+02  4.00e+02  3.40e+01  6.00e+00  7.30e-01]\n",
            " [ 1.60e+02  3.37e+02  3.10e+01  5.00e+00 -5.20e-01]\n",
            " [ 1.86e+02  4.23e+02  4.20e+01  9.00e+00  9.00e-01]\n",
            " [ 1.25e+02  3.34e+02  2.60e+01  8.00e+00  4.00e-01]\n",
            " [ 2.18e+02  5.33e+02  1.60e+01  6.00e+00 -7.80e-01]\n",
            " [ 1.46e+02  3.44e+02  2.20e+01  5.00e+00 -5.60e-01]]\n"
          ],
          "name": "stdout"
        }
      ]
    },
    {
      "cell_type": "markdown",
      "metadata": {
        "id": "wLitAzhPhlvH",
        "colab_type": "text"
      },
      "source": [
        "# Exercise 1"
      ]
    },
    {
      "cell_type": "code",
      "metadata": {
        "id": "eeINN9ZkmicX",
        "colab_type": "code",
        "colab": {
          "base_uri": "https://localhost:8080/",
          "height": 0
        },
        "outputId": "5fb4f2a1-9a04-46b7-d46e-55eb7465ae30"
      },
      "source": [
        "def LinearAlgebraFit(table):\n",
        "  MatrixA=np.array([[1,table[4,0]],\n",
        "                    [1,table[5,0]],\n",
        "                    [1,table[6,0]],\n",
        "                    [1,table[7,0]],\n",
        "                    [1,table[8,0]],\n",
        "                    [1,table[9,0]],\n",
        "                    [1,table[10,0]],\n",
        "                    [1,table[11,0]],\n",
        "                    [1,table[12,0]],\n",
        "                    [1,table[13,0]],\n",
        "                    [1,table[14,0]],\n",
        "                    [1,table[15,0]],\n",
        "                    [1,table[16,0]],\n",
        "                    [1,table[17,0]],\n",
        "                    [1,table[18,0]],\n",
        "                    [1,table[19,0]]]) #Creates Matrix A from positions 5-20 in the first column (x-values)\n",
        "  MatrixA_T=np.transpose(MatrixA) #Transposes Matrix A\n",
        "  MatrixY=np.array(table[4:20,1]) #Creates Matrix Y from positions 5-20 in the second column (Y-values)\n",
        "  MatrixC=np.diag(table1[4:20,2]) #Creates a diagonal Matrix C from positions 5-20 in the third columb (SigmaY-Values)\n",
        "  MatrixC_I=np.linalg.inv(MatrixC) #Inverses Matrix C\n",
        "  MatrixX_1=np.dot(np.dot(MatrixA_T,MatrixC_I),MatrixA)\n",
        "  MatrixX_2=np.dot(np.dot(MatrixA_T,MatrixC_I),MatrixY)\n",
        "  MatrixX=np.linalg.solve(MatrixX_1,MatrixX_2)\n",
        "  x_vals=np.arange(0,300,10)\n",
        "  #print(MatrixA)\n",
        "  #print(MatrixA_T)\n",
        "  #print(MatrixY)\n",
        "  #print(MatrixC_I)\n",
        "  #print(MatrixC_I)\n",
        "  #print(MatrixX_1)\n",
        "  #print(MatrixX_2)\n",
        "  print(MatrixX)\n",
        "  plt.errorbar(table[4:20,0],table[4:20,1],yerr=table[4:20,2],fmt=\"o\")\n",
        "  plt.plot(x_vals,MatrixX[1]*x_vals+MatrixX[0])\n",
        "  plt.plot\n",
        "LinearAlgebraFit(table1)"
      ],
      "execution_count": 40,
      "outputs": [
        {
          "output_type": "stream",
          "text": [
            "[33.45048483  2.221363  ]\n"
          ],
          "name": "stdout"
        },
        {
          "output_type": "display_data",
          "data": {
            "image/png": "[encoded data removed]",
            "text/plain": [
              "<Figure size 432x288 with 1 Axes>"
            ]
          },
          "metadata": {
            "tags": [],
            "needs_background": "light"
          }
        }
      ]
    }
  ]
}